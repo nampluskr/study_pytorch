{
 "cells": [
  {
   "cell_type": "code",
   "execution_count": 15,
   "metadata": {},
   "outputs": [],
   "source": [
    "import numpy as np\n",
    "import matplotlib.pyplot as plt\n",
    "import torch\n",
    "import torch.nn as nn\n",
    "import torch.optim as optim\n",
    "\n",
    "import sys\n",
    "from tqdm import tqdm"
   ]
  },
  {
   "cell_type": "code",
   "execution_count": 16,
   "metadata": {},
   "outputs": [],
   "source": [
    "class PINN(nn.Module):\n",
    "    def __init__(self, input_dim, output_dim):\n",
    "        super().__init__()\n",
    "        self.hidden = nn.Sequential(\n",
    "            nn.Linear(input_dim, 20),  nn.Tanh(),\n",
    "            nn.Linear(20, 20), nn.Tanh(),\n",
    "            nn.Linear(20, 20), nn.Tanh(),\n",
    "            nn.Linear(20, 20), nn.Tanh(),\n",
    "            nn.Linear(20, output_dim),\n",
    "        )\n",
    "\n",
    "    def forward(self, x, t):\n",
    "        inputs = torch.cat([x, t], dim=1)\n",
    "        return self.hidden(inputs)\n",
    "\n",
    "def gradient(y, x):\n",
    "    return torch.autograd.grad(y, x,\n",
    "                grad_outputs=torch.ones_like(y),\n",
    "                create_graph=True,\n",
    "                retain_graph=True)[0]"
   ]
  },
  {
   "cell_type": "code",
   "execution_count": 17,
   "metadata": {},
   "outputs": [],
   "source": [
    "def residual(model, x, t):\n",
    "    x.requires_grad = True\n",
    "    t.requires_grad = True\n",
    "    u = model(x, t)\n",
    "    u_x, u_t = gradient(u, x), gradient(u, t)\n",
    "    u_xx = gradient(u_x, x)\n",
    "    return u_t + u * u_x - 0.01/np.pi * u_xx\n",
    "\n",
    "def ic(x):\n",
    "    return -torch.sin(np.pi * x)\n",
    "\n",
    "def bc_left(t):\n",
    "    return torch.zeros_like(t)\n",
    "\n",
    "def bc_right(t):\n",
    "    return torch.zeros_like(t)"
   ]
  },
  {
   "cell_type": "code",
   "execution_count": 25,
   "metadata": {},
   "outputs": [
    {
     "name": "stdout",
     "output_type": "stream",
     "text": [
      "Training: 100%|##########| 10000/10000 [06:15<00:00, 26.63epoch/s, Loss=1.96e-03, Res=1.34e-03, IC=6.06e-04, BC=1.94e-05]\n"
     ]
    }
   ],
   "source": [
    "device = torch.device(\"cuda\" if torch.cuda.is_available() else \"cpu\")\n",
    "model = PINN(input_dim=2, output_dim=1).to(device)\n",
    "optimizer = torch.optim.Adam(model.parameters(), lr=0.001)\n",
    "\n",
    "x_min, x_max, x_size = -1, 1, 200\n",
    "t_min, t_max, t_size = 0, 1, 100\n",
    "\n",
    "x = torch.linspace(x_min, x_max, x_size).view(-1, 1)\n",
    "t = torch.linspace(t_min, t_max, t_size).view(-1, 1)\n",
    "x_train, t_train = torch.meshgrid(x.squeeze(), t.squeeze(), indexing=\"xy\")\n",
    "x_train = x_train.reshape(-1, 1)\n",
    "t_train = t_train.reshape(-1, 1)\n",
    "\n",
    "n_epochs = 10000\n",
    "with tqdm(range(1, n_epochs+1), file=sys.stdout, desc=\"Training\", unit=\"epoch\",\n",
    "          ascii=True) as pbar:\n",
    "    for epoch in pbar:\n",
    "\n",
    "        loss_res = torch.mean(residual(model, x_train, t_train)**2)\n",
    "\n",
    "        x0, t0, u0 = x, torch.zeros_like(x), ic(x)\n",
    "        loss_ic = torch.mean((model(x0, t0) - u0)**2)\n",
    "\n",
    "        xb, tb, ub = torch.full_like(t, -1), t, bc_left(t)\n",
    "        loss_bc_left = torch.mean((model(xb, tb) - ub)**2)\n",
    "\n",
    "        xb, tb, ub = torch.full_like(t, 1), t, bc_right(t)\n",
    "        loss_bc_right = torch.mean((model(xb, tb) - ub)**2)\n",
    "\n",
    "        total_loss = loss_res + loss_ic + loss_bc_left + loss_bc_right\n",
    "\n",
    "        optimizer.zero_grad()\n",
    "        total_loss.backward()\n",
    "        optimizer.step()\n",
    "\n",
    "        if epoch % 20 == 0:\n",
    "            pbar.set_postfix({\"Loss\": f'{total_loss.item():.2e}',\n",
    "                              \"Res\": f'{loss_res.item():.2e}',\n",
    "                              \"IC\": f'{loss_ic.item():.2e}',\n",
    "                              \"BC\": f'{(loss_bc_left.item() + loss_bc_right.item()):.2e}'})"
   ]
  },
  {
   "cell_type": "code",
   "execution_count": null,
   "metadata": {},
   "outputs": [],
   "source": []
  }
 ],
 "metadata": {
  "kernelspec": {
   "display_name": "Python 3",
   "language": "python",
   "name": "python3"
  },
  "language_info": {
   "codemirror_mode": {
    "name": "ipython",
    "version": 3
   },
   "file_extension": ".py",
   "mimetype": "text/x-python",
   "name": "python",
   "nbconvert_exporter": "python",
   "pygments_lexer": "ipython3",
   "version": "3.12.4"
  }
 },
 "nbformat": 4,
 "nbformat_minor": 2
}
