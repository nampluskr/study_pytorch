{
 "cells": [
  {
   "cell_type": "code",
   "execution_count": 5,
   "metadata": {},
   "outputs": [],
   "source": [
    "import random\n",
    "import random\n",
    "import numpy as np\n",
    "import matplotlib.pyplot as plt\n",
    "import torch\n",
    "import torch.optim as optim\n",
    "\n",
    "from pinn import PINN, Trainer, gradient"
   ]
  },
  {
   "cell_type": "code",
   "execution_count": 6,
   "metadata": {},
   "outputs": [],
   "source": [
    "def solution_x(t):\n",
    "    return np.exp(-t)/2 + np.exp(-3*t)/2\n",
    "\n",
    "def solution_y(t):\n",
    "    return -np.exp(-t)/2 + np.exp(-3*t)/2\n",
    "\n",
    "def residual_loss(model, t):\n",
    "    t.requires_grad = True\n",
    "    output = model(t)\n",
    "    x, y = output[:, 0:1], output[:, 1:2]\n",
    "    x_t = gradient(x, t)        # dx/dt\n",
    "    y_t = gradient(y, t)        # dy/dt\n",
    "    residual_x = x_t + 2*x + y\n",
    "    residual_y = y_t + x + 2*y\n",
    "    return torch.mean(torch.square(residual_x) + torch.square(residual_y))"
   ]
  },
  {
   "cell_type": "code",
   "execution_count": 12,
   "metadata": {},
   "outputs": [],
   "source": [
    "## Hyperparameters\n",
    "seed = 42\n",
    "random.seed(seed)\n",
    "np.random.seed(seed)\n",
    "torch.manual_seed(seed)\n",
    "device = torch.device(\"cuda\" if torch.cuda.is_available() else \"cpu\")\n",
    "\n",
    "n_epochs = 10000\n",
    "learning_rate = 1e-3\n",
    "layers = [1, 64, 64, 2]"
   ]
  },
  {
   "cell_type": "code",
   "execution_count": null,
   "metadata": {},
   "outputs": [],
   "source": [
    "def to_tensor(x):\n",
    "    device = torch.device(\"cuda\" if torch.cuda.is_available() else \"cpu\")\n",
    "    if x.ndim == 1:\n",
    "        return torch.from_numpy(x).float().view(-1, 1).to(device)\n",
    "    else:\n",
    "        return torch.from_numpy(x).float().to(device)\n",
    "\n",
    "def tensor_like(x, value):\n",
    "    torch.device(\"cuda\" if torch.cuda.is_available() else \"cpu\")\n",
    "    return torch.full_like(x, value).to(device)\n",
    "\n",
    "def to_numpy(x):\n",
    "    if x.ndim == 2 and x.shape[1] == 1:\n",
    "        return x.flatten().detach().cpu().numpy()\n",
    "    return x.detach().cpu().numpy()"
   ]
  },
  {
   "cell_type": "code",
   "execution_count": 13,
   "metadata": {},
   "outputs": [],
   "source": [
    "## Training Data\n",
    "t_min, t_max, t_size = 0, 5, 101\n",
    "t_np = np.linspace(t_min, t_max, t_size)\n",
    "t = torch.from_numpy(t_np).float().view(-1, 1).to(device)\n",
    "\n",
    "targets = {}\n",
    "targets[\"ic_x\"] = [torch.full_like(t, 0)], torch.full_like(t, 1)\n",
    "targets[\"ic_y\"] = [torch.full_like(t, 0)], torch.full_like(t, 0)"
   ]
  },
  {
   "cell_type": "code",
   "execution_count": 14,
   "metadata": {},
   "outputs": [
    {
     "name": "stdout",
     "output_type": "stream",
     "text": [
      "Epoch[10000/10000] (lr: 6.23e-06) TOTAL: 5.00e-01 RES: 4.43e-06 IC_X: 2.50e-01 IC_Y: 2.50e-01: 100%|##########| 10000/10000 [00:29<00:00, 343.67it/s]\n"
     ]
    }
   ],
   "source": [
    "## Trian model\n",
    "model = PINN(layers_dim=layers, activation=\"tanh\").to(device)\n",
    "optimizer = optim.AdamW(model.parameters(), lr=learning_rate)\n",
    "scheduler = optim.lr_scheduler.StepLR(optimizer, step_size=100, gamma=0.95)\n",
    "\n",
    "odes = Trainer(model, optimizer, loss_fn=residual_loss, targets=targets)\n",
    "losses = odes.fit(inputs=[t], n_epochs=n_epochs, scheduler=scheduler)"
   ]
  },
  {
   "cell_type": "code",
   "execution_count": null,
   "metadata": {},
   "outputs": [],
   "source": []
  }
 ],
 "metadata": {
  "kernelspec": {
   "display_name": "Python 3",
   "language": "python",
   "name": "python3"
  },
  "language_info": {
   "codemirror_mode": {
    "name": "ipython",
    "version": 3
   },
   "file_extension": ".py",
   "mimetype": "text/x-python",
   "name": "python",
   "nbconvert_exporter": "python",
   "pygments_lexer": "ipython3",
   "version": "3.12.4"
  }
 },
 "nbformat": 4,
 "nbformat_minor": 2
}
